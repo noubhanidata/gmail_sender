{
 "cells": [
  {
   "cell_type": "code",
   "execution_count": 1,
   "id": "c81969dc",
   "metadata": {},
   "outputs": [],
   "source": [
    "import smtplib\n",
    "from email.mime.multipart import MIMEMultipart\n",
    "from email.mime.text import MIMEText\n",
    "from email.mime.base import MIMEBase\n",
    "from email import encoders\n",
    "\n",
    "def send_mail(receiver,attachement=\"\"):\n",
    "        body = '''___this_is_where_your_body_text_goes____'''\n",
    "        #note in order to run this code you must allow Less secure app access in your googla account \n",
    "        #go to google account -> security -> Less secure app access\n",
    "        # put your email here\n",
    "        sender = 'email@gmail.com'\n",
    "        # put your password here\n",
    "        password = 'my_password'\n",
    "        #Setup the MIME\n",
    "        message = MIMEMultipart()\n",
    "        message['From'] = sender\n",
    "        message['To'] = receiver\n",
    "        message['Subject'] = '__write__your_subject_here'\n",
    "\n",
    "        message.attach(MIMEText(body, 'plain'))\n",
    "        if attachement != \"\":\n",
    "            #the file must be in the same folder as this notebook , otherwise the code must be modified accordingly\n",
    "            # open the file in bynary\n",
    "            binary_pdf = open(attachement, 'rb')\n",
    "\n",
    "            payload = MIMEBase('application', 'octate-stream', Name=attachement)\n",
    "            payload.set_payload((binary_pdf).read())\n",
    "\n",
    "            # enconding the binary into base64\n",
    "            encoders.encode_base64(payload)\n",
    "\n",
    "            # add header with pdf name\n",
    "            payload.add_header('Content-Decomposition', 'attachment', filename=attachement)\n",
    "            message.attach(payload)\n",
    "\n",
    "        #use gmail with port\n",
    "        session = smtplib.SMTP('smtp.gmail.com', 587)\n",
    "\n",
    "        #enable security\n",
    "        session.starttls()\n",
    "\n",
    "        #login with mail_id and password\n",
    "        session.login(sender, password)\n",
    "\n",
    "        text = message.as_string()\n",
    "        session.sendmail(sender, receiver, text)\n",
    "        print('Mail Sent')"
   ]
  },
  {
   "cell_type": "code",
   "execution_count": null,
   "id": "a00c2fe5",
   "metadata": {},
   "outputs": [],
   "source": []
  }
 ],
 "metadata": {
  "kernelspec": {
   "display_name": "Python 3",
   "language": "python",
   "name": "python3"
  },
  "language_info": {
   "codemirror_mode": {
    "name": "ipython",
    "version": 3
   },
   "file_extension": ".py",
   "mimetype": "text/x-python",
   "name": "python",
   "nbconvert_exporter": "python",
   "pygments_lexer": "ipython3",
   "version": "3.8.8"
  }
 },
 "nbformat": 4,
 "nbformat_minor": 5
}
